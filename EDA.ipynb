{
 "cells": [
  {
   "cell_type": "code",
   "execution_count": null,
   "id": "5cba2a82",
   "metadata": {},
   "outputs": [],
   "source": [
    "import pandas as pd\n",
    "import os\n",
    "\n",
    "# Define the URLs for the datasets\n",
    "db = {\n",
    "    \"course_genre_url\": \"https://cf-courses-data.s3.us.cloud-object-storage.appdomain.cloud/IBM-ML321EN-SkillsNetwork/labs/datasets/course_genre.csv\",\n",
    "    \"profile_genre_url\": \"https://cf-courses-data.s3.us.cloud-object-storage.appdomain.cloud/IBM-ML321EN-SkillsNetwork/labs/datasets/user_profile.csv\",\n",
    "    \"test_users_url\": \"https://cf-courses-data.s3.us.cloud-object-storage.appdomain.cloud/IBMSkillsNetwork-ML0321EN-Coursera/labs/v2/module_3/ratings.csv\"\n",
    "}\n",
    "\n",
    "# Load the data into dataframes\n",
    "course_genre_df = pd.read_csv(db[\"course_genre_url\"])\n",
    "profile_genre_df = pd.read_csv(db[\"profile_genre_url\"])\n",
    "test_users_df = pd.read_csv(db[\"test_users_url\"])\n",
    "\n",
    "\n",
    "\n",
    "# Return the dataframes\n",
    "course_genre_df.head(), profile_genre_df.head(), test_users_df.head()"
   ]
  },
  {
   "cell_type": "code",
   "execution_count": null,
   "id": "f8bc0b3e",
   "metadata": {},
   "outputs": [],
   "source": []
  }
 ],
 "metadata": {
  "language_info": {
   "name": "python"
  }
 },
 "nbformat": 4,
 "nbformat_minor": 5
}
